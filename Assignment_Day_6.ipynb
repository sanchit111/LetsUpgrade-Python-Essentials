{
  "nbformat": 4,
  "nbformat_minor": 0,
  "metadata": {
    "colab": {
      "name": "Assignment Day 6.ipynb",
      "provenance": [],
      "authorship_tag": "ABX9TyMeOxIp6lGqvB1s+9tz4SPa"
    },
    "kernelspec": {
      "name": "python3",
      "display_name": "Python 3"
    }
  },
  "cells": [
    {
      "cell_type": "code",
      "metadata": {
        "id": "mj7EaLU7FCI-",
        "colab_type": "code",
        "colab": {
          "base_uri": "https://localhost:8080/",
          "height": 255
        },
        "outputId": "34f13232-054a-4d9b-838f-9abb1fb42af5"
      },
      "source": [
        "#Question 1:\n",
        "class BankAccount: \n",
        "    def __init__(self): \n",
        "        self.ownerName=\"Sanchit Singhal\"\n",
        "        self.Balance=0\n",
        "        \n",
        "    def deposit(self): \n",
        "        Amount=float(input(\"\\nEnter amount to be Deposited : \")) \n",
        "        self.Balance += Amount \n",
        "        print(\"\\nAmount Deposited is :\",Amount) \n",
        "  \n",
        "    def withdraw(self): \n",
        "        Amount = float(input(\"\\nEnter amount to be Withdrawn : \")) \n",
        "        if self.Balance >= Amount: \n",
        "            self.Balance -= Amount \n",
        "            print(\"\\nYou have Withdrew :\", Amount) \n",
        "        else: \n",
        "            print(\"\\nInsufficient balance in the account!!!\") \n",
        "   \n",
        "BA = BankAccount()\n",
        "print(\"\\nAccount Holder Name is :\",BA.ownerName)\n",
        "print(\"\\nInitial Account Balance is :\",BA.Balance)\n",
        "BA.deposit();\n",
        "BA.withdraw();\n",
        "print(\"\\nNet Avaliable balance is : \",BA.Balance)"
      ],
      "execution_count": 9,
      "outputs": [
        {
          "output_type": "stream",
          "text": [
            "\n",
            "Account Holder Name is : Sanchit Singhal\n",
            "\n",
            "Initial Account Balance is : 0\n",
            "\n",
            "Enter amount to be Deposited : 1000\n",
            "\n",
            "Amount Deposited is : 1000.0\n",
            "\n",
            "Enter amount to be Withdrawn : 2000\n",
            "\n",
            "Insufficient balance in the account!!!\n",
            "\n",
            "Net Avaliable balance is :  1000.0\n"
          ],
          "name": "stdout"
        }
      ]
    },
    {
      "cell_type": "code",
      "metadata": {
        "id": "tG7puLirFWHp",
        "colab_type": "code",
        "colab": {
          "base_uri": "https://localhost:8080/",
          "height": 153
        },
        "outputId": "0c611d69-ef41-465e-cd39-1908cc875feb"
      },
      "source": [
        "#Question 2:\n",
        "import math\n",
        "pi = math.pi\n",
        "class cone:\n",
        "    def __init__(self,r,h): \n",
        "        self.r=r\n",
        "        self.h=h\n",
        "        \n",
        "    def volume(self):\n",
        "        result = (1 / 3) * pi * self.r * self.r * self.h\n",
        "        print(\"\\nVolume Of Cone is :\",result)\n",
        "        \n",
        "    def surfacearea(self):\n",
        "        result = pi * self.r * self.h + pi * self.r * self.r\n",
        "        print(\"\\nSurface Area Of Cone is :\",result)\n",
        "        \n",
        "ra = float(input(\"\\nEnter the radius of cone : \"))\n",
        "he = float(input(\"\\nEnter the height of cone : \"))\n",
        "c = cone( ra, he)\n",
        "c.volume()\n",
        "c.surfacearea()"
      ],
      "execution_count": 6,
      "outputs": [
        {
          "output_type": "stream",
          "text": [
            "\n",
            "Enter the radius of cone : 8\n",
            "\n",
            "Enter the height of cone : 9\n",
            "\n",
            "Volume Of Cone is : 603.1857894892403\n",
            "\n",
            "Surface Area Of Cone is : 427.2566008882119\n"
          ],
          "name": "stdout"
        }
      ]
    }
  ]
}