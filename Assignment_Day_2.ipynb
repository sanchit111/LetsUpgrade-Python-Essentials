{
  "nbformat": 4,
  "nbformat_minor": 0,
  "metadata": {
    "colab": {
      "name": "Assignment Day 2.ipynb",
      "provenance": [],
      "collapsed_sections": [],
      "authorship_tag": "ABX9TyOcqBlbNupDVNmeLnhXp+Hp"
    },
    "kernelspec": {
      "name": "python3",
      "display_name": "Python 3"
    }
  },
  "cells": [
    {
      "cell_type": "code",
      "metadata": {
        "id": "MN_-xYqJERL-",
        "colab_type": "code",
        "colab": {
          "base_uri": "https://localhost:8080/",
          "height": 221
        },
        "outputId": "e65757b1-8d29-4770-fca3-8c7f80ec1013"
      },
      "source": [
        "# 1)List\n",
        "\n",
        "list2=list([1])\n",
        "list1=['a','b']\n",
        "#list2=[1,2]\n",
        "print(list1)\n",
        "print(list2)\n",
        "list1.extend(list2)\n",
        "print(list1)\n",
        "list1.append(2)\n",
        "print(list1)\n",
        "list1.insert(2,\"hey\")\n",
        "print(list1)\n",
        "list1.remove(\"hey\")\n",
        "print(list1)\n",
        "list1.pop()\n",
        "print(list1)\n",
        "print(list1.index(1))\n",
        "#list1.clear()\n",
        "print(list1.count('a'))\n",
        "list3=[1,32,4,43,5]\n",
        "list3.reverse()\n",
        "print(list3)\n",
        "list3.sort()\n",
        "print(list3)\n",
        "list4=list1.copy()\n",
        "print(list4)"
      ],
      "execution_count": 6,
      "outputs": [
        {
          "output_type": "stream",
          "text": [
            "['a', 'b']\n",
            "[1]\n",
            "['a', 'b', 1]\n",
            "['a', 'b', 1, 2]\n",
            "['a', 'b', 'hey', 1, 2]\n",
            "['a', 'b', 1, 2]\n",
            "['a', 'b', 1]\n",
            "2\n",
            "1\n",
            "[5, 43, 4, 32, 1]\n",
            "[1, 4, 5, 32, 43]\n",
            "['a', 'b', 1]\n"
          ],
          "name": "stdout"
        }
      ]
    },
    {
      "cell_type": "code",
      "metadata": {
        "id": "7u-1VXQiEhnP",
        "colab_type": "code",
        "colab": {
          "base_uri": "https://localhost:8080/",
          "height": 68
        },
        "outputId": "d4d26a57-f709-4fe7-fd72-a49418325bcf"
      },
      "source": [
        "# 2)Tuple\n",
        "\n",
        "a=(1,4,3,2,5,2,6)\n",
        "print(a)\n",
        "print(a.count(2))\n",
        "print(a.index(4))"
      ],
      "execution_count": 7,
      "outputs": [
        {
          "output_type": "stream",
          "text": [
            "(1, 4, 3, 2, 5, 2, 6)\n",
            "2\n",
            "1\n"
          ],
          "name": "stdout"
        }
      ]
    },
    {
      "cell_type": "code",
      "metadata": {
        "id": "iLbBhfniEsmH",
        "colab_type": "code",
        "colab": {
          "base_uri": "https://localhost:8080/",
          "height": 85
        },
        "outputId": "c3fe8adc-1440-4ce3-8b4e-6abf0c4ec046"
      },
      "source": [
        "# 3)Dictionary\n",
        "\n",
        "month_conversion={\n",
        "  \"Jan\":\"January\",\n",
        "  'Feb':'February',\n",
        "  'Mar':'March',\n",
        "  'May':\"May\",\n",
        "  \"Jun\":\"June\",\n",
        "  \"Jul\":\"July\",\n",
        "  \"Aug\":\"August\",\n",
        "  \"Sep\":\"September\",\n",
        "  \"Oct\":\"October\",\n",
        "  \"Nov\":\"November\",\n",
        "  \"Dec\":\"December\"\n",
        "}\n",
        "print(month_conversion[\"Jun\"])\n",
        "print(month_conversion.get(\"Dec\"))\n",
        "print(month_conversion.get(\"dec\",\"Not a Valid Key\"))\n",
        "print(month_conversion.clear())"
      ],
      "execution_count": 8,
      "outputs": [
        {
          "output_type": "stream",
          "text": [
            "June\n",
            "December\n",
            "Not a Valid Key\n",
            "None\n"
          ],
          "name": "stdout"
        }
      ]
    },
    {
      "cell_type": "code",
      "metadata": {
        "id": "Rg5Fpaq6EzNq",
        "colab_type": "code",
        "colab": {
          "base_uri": "https://localhost:8080/",
          "height": 51
        },
        "outputId": "543be4f5-d4dc-4b3c-a1b9-43881247f475"
      },
      "source": [
        "# 4)Set\n",
        "\n",
        "st={1,2,\"da\",41,4}\n",
        "st1={1,5,7,8,\"a\"}\n",
        "st.add(10)\n",
        "st.intersection(st1)\n",
        "st.union(st1)\n",
        "st.issubset(st1)\n",
        "st.remove(2)\n",
        "print(st)\n",
        "st.pop()\n",
        "print(st)"
      ],
      "execution_count": 9,
      "outputs": [
        {
          "output_type": "stream",
          "text": [
            "{1, 4, 41, 10, 'da'}\n",
            "{4, 41, 10, 'da'}\n"
          ],
          "name": "stdout"
        }
      ]
    },
    {
      "cell_type": "code",
      "metadata": {
        "id": "58hFDzTYE6Dq",
        "colab_type": "code",
        "colab": {
          "base_uri": "https://localhost:8080/",
          "height": 35
        },
        "outputId": "b3821343-e2bf-4a75-9359-fe24982c297e"
      },
      "source": [
        "# 5)String\n",
        "\n",
        "a=\"Hello\"\n",
        "a.count('e')\n",
        "a.isalnum()\n",
        "a.islower()\n",
        "a.isupper()\n",
        "a.upper()\n",
        "a.lower()\n"
      ],
      "execution_count": 10,
      "outputs": [
        {
          "output_type": "execute_result",
          "data": {
            "application/vnd.google.colaboratory.intrinsic+json": {
              "type": "string"
            },
            "text/plain": [
              "'hello'"
            ]
          },
          "metadata": {
            "tags": []
          },
          "execution_count": 10
        }
      ]
    }
  ]
}