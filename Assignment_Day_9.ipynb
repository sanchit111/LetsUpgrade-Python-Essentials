{
  "nbformat": 4,
  "nbformat_minor": 0,
  "metadata": {
    "colab": {
      "name": "Assignment Day 9.ipynb",
      "provenance": [],
      "authorship_tag": "ABX9TyM0KUurL5x4cKzSBKCr1EPI"
    },
    "kernelspec": {
      "name": "python3",
      "display_name": "Python 3"
    }
  },
  "cells": [
    {
      "cell_type": "code",
      "metadata": {
        "id": "CB7hcDI1I3ha",
        "colab_type": "code",
        "colab": {
          "base_uri": "https://localhost:8080/",
          "height": 34
        },
        "outputId": "22a66022-376e-429a-837c-ca8d2db7c91e"
      },
      "source": [
        "#Question 2:\n",
        "lst = list(range(1,1000+1))\n",
        "def armstrong(lst):    \n",
        "    for num in lst:\n",
        "        s = 0\n",
        "        temp = num\n",
        "        while temp > 0:\n",
        "            d = temp % 10\n",
        "            s += d ** 3\n",
        "            temp //= 10\n",
        "        if num == s:\n",
        "            yield num\n",
        "list(armstrong(lst))"
      ],
      "execution_count": 1,
      "outputs": [
        {
          "output_type": "execute_result",
          "data": {
            "text/plain": [
              "[1, 153, 370, 371, 407]"
            ]
          },
          "metadata": {
            "tags": []
          },
          "execution_count": 1
        }
      ]
    }
  ]
}