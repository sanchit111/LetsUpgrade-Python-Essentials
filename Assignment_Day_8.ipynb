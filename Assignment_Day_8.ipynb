{
  "nbformat": 4,
  "nbformat_minor": 0,
  "metadata": {
    "colab": {
      "name": "Assignment Day 8.ipynb",
      "provenance": [],
      "authorship_tag": "ABX9TyPJfx3cxaafFec/FyyRNeSu"
    },
    "kernelspec": {
      "name": "python3",
      "display_name": "Python 3"
    }
  },
  "cells": [
    {
      "cell_type": "code",
      "metadata": {
        "id": "hkVQyfj0IKRt",
        "colab_type": "code",
        "colab": {
          "base_uri": "https://localhost:8080/",
          "height": 68
        },
        "outputId": "12b8b171-35cd-4513-e20a-5937c1db75c4"
      },
      "source": [
        "#Question 1:\n",
        "def getInput(calculate_arg_fun):\n",
        "    def wrap_function():\n",
        "        a = int(input(\"\\nEnter First Number - \"))\n",
        "        b = int(input(\"\\nEnter Second Number - \"))\n",
        "        calculate_arg_fun(a,b)   \n",
        "    return wrap_function\n",
        "\n",
        "def EvenFinder(start, last):    \n",
        "    print(\"\\nThe Even numbers in the range\",start,\"to\",last,\"is :\")\n",
        "    for n in range(start, last + 1): \n",
        "        if n % 2 == 0: \n",
        "            print(n, end = \" \")\n",
        "EvenFinder(1,50)"
      ],
      "execution_count": 10,
      "outputs": [
        {
          "output_type": "stream",
          "text": [
            "\n",
            "The Even numbers in the range 1 to 50 is :\n",
            "2 4 6 8 10 12 14 16 18 20 22 24 26 28 30 32 34 36 38 40 42 44 46 48 50 "
          ],
          "name": "stdout"
        }
      ]
    },
    {
      "cell_type": "code",
      "metadata": {
        "id": "vXi4SlA7IPFD",
        "colab_type": "code",
        "colab": {}
      },
      "source": [
        "#Question 2:\n",
        "\n",
        "%%writefile test.txt\n",
        "Hey! I am Sanchit\n",
        "I am learning Python \n",
        "try:\n",
        "    file = open(\"test.txt\",\"r\") \n",
        "    file.write(\"\\nI am from Delhi.\")\n",
        "    print(\"\\nWrite operation has done successfully in read only mode.\")\n",
        "\n",
        "except Exception as e:    \n",
        "    print(\"\\nError has been occured\")\n",
        "    print(\"\\nError message is :\",e)"
      ],
      "execution_count": null,
      "outputs": []
    }
  ]
}