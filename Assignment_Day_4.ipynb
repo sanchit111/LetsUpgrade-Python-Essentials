{
  "nbformat": 4,
  "nbformat_minor": 0,
  "metadata": {
    "colab": {
      "name": "Assignment Day 4.ipynb",
      "provenance": [],
      "authorship_tag": "ABX9TyNNlb6T1Lz/0O5GRFVT1w/Q"
    },
    "kernelspec": {
      "name": "python3",
      "display_name": "Python 3"
    }
  },
  "cells": [
    {
      "cell_type": "code",
      "metadata": {
        "id": "1_0GMZsED6Lv",
        "colab_type": "code",
        "colab": {
          "base_uri": "https://localhost:8080/",
          "height": 34
        },
        "outputId": "2e001760-191b-45e3-8183-7965fcb2b2dd"
      },
      "source": [
        "n = 1042000\n",
        "while n <= 702648265:\n",
        "    order = len(str(n))\n",
        "    s=0\n",
        "    num = n\n",
        "    \n",
        "    while num > 0:  \n",
        "        digit = num % 10\n",
        "        s += digit ** order\n",
        "        num //= 10\n",
        "    if n == s:\n",
        "        print(\"The first Armstrong number is :\",n)\n",
        "        break  \n",
        "    n += 1"
      ],
      "execution_count": 3,
      "outputs": [
        {
          "output_type": "stream",
          "text": [
            "The first Armstrong number is : 1741725\n"
          ],
          "name": "stdout"
        }
      ]
    }
  ]
}